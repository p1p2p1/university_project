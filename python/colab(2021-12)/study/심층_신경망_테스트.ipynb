{
  "nbformat": 4,
  "nbformat_minor": 0,
  "metadata": {
    "colab": {
      "provenance": []
    },
    "kernelspec": {
      "name": "python3",
      "display_name": "Python 3"
    },
    "language_info": {
      "name": "python"
    }
  },
  "cells": [
    {
      "cell_type": "code",
      "execution_count": null,
      "metadata": {
        "id": "rj27lmPauZ8v"
      },
      "outputs": [],
      "source": [
        "# 심층신경망\n",
        "# 데이터 가져오기\n",
        "from tensorflow import keras\n",
        "(train_input, train_target), (test_input, test_target) = \\\n",
        "                            keras.datasets.fashion_mnist.load_data()"
      ]
    },
    {
      "cell_type": "code",
      "source": [
        "train_scaled = train_input / 255.0            # 0~1사이의 값으로 정규화.\n",
        "train_scaled = train_scaled.reshape(-1,28*28)"
      ],
      "metadata": {
        "id": "3qUxwfrcut4q"
      },
      "execution_count": null,
      "outputs": []
    },
    {
      "cell_type": "code",
      "source": [
        "# 데이터 나누기 (훈련데이터와 테스트 데이터로 나누기)\n",
        "from sklearn.model_selection import train_test_split\n",
        "train_scaled, val_scaled, train_target, val_target = \\\n",
        "                  train_test_split(train_scaled, train_target, test_size=0.2, random_state=42)\n"
      ],
      "metadata": {
        "id": "HcBZKsJcu5lK"
      },
      "execution_count": null,
      "outputs": []
    },
    {
      "cell_type": "code",
      "source": [
        "# 심층 신경망 - 2층 신경망 만들기\n",
        "dense1 = keras.layers.Dense(100, activation='sigmoid', input_shape=(784,))\n",
        "dense2 = keras.layers.Dense(10, activation='softmax')\n",
        "model = keras.Sequential([dense1, dense2])\n",
        "model.summary()"
      ],
      "metadata": {
        "id": "_XP9BKHOvptx"
      },
      "execution_count": null,
      "outputs": []
    },
    {
      "cell_type": "code",
      "source": [
        "# 훈련\n",
        "model.compile(loss='sparse_categorical_crossentropy', metrics='accuracy')\n",
        "model.fit(train_scaled, train_target, epochs=5)"
      ],
      "metadata": {
        "colab": {
          "base_uri": "https://localhost:8080/"
        },
        "id": "bHwIrdeAwgbB",
        "outputId": "03b03833-e285-45ac-fb6a-d2a9484646f1"
      },
      "execution_count": null,
      "outputs": [
        {
          "output_type": "stream",
          "name": "stdout",
          "text": [
            "Epoch 1/5\n",
            "1500/1500 [==============================] - 4s 2ms/step - loss: 0.5627 - accuracy: 0.8096\n",
            "Epoch 2/5\n",
            "1500/1500 [==============================] - 3s 2ms/step - loss: 0.4072 - accuracy: 0.8543\n",
            "Epoch 3/5\n",
            "1500/1500 [==============================] - 3s 2ms/step - loss: 0.3739 - accuracy: 0.8652\n",
            "Epoch 4/5\n",
            "1500/1500 [==============================] - 3s 2ms/step - loss: 0.3513 - accuracy: 0.8731\n",
            "Epoch 5/5\n",
            "1500/1500 [==============================] - 3s 2ms/step - loss: 0.3347 - accuracy: 0.8777\n"
          ]
        },
        {
          "output_type": "execute_result",
          "data": {
            "text/plain": [
              "<keras.callbacks.History at 0x7f6e5117af10>"
            ]
          },
          "metadata": {},
          "execution_count": 5
        }
      ]
    },
    {
      "cell_type": "code",
      "source": [
        "# ReLU 함수 사용\n",
        "# dense1 = keras.layers.Dense(100, activation='sigmoid', input_shape=(784,))\n",
        "# dense2 = keras.layers.Dense(10, activation='softmax')\n",
        "# model = keras.Sequential([dense1, dense2])\n",
        "model = keras.Sequential()\n",
        "model.add(keras.layers.Flatten(input_shape=(784,)))\n",
        "model.add(keras.layers.Dense(100, activation='relu'))\n",
        "model.add(keras.layers.Dense(10, activation='softmax'))\n",
        "model.summary()"
      ],
      "metadata": {
        "colab": {
          "base_uri": "https://localhost:8080/"
        },
        "id": "WBfvQS0ZyDki",
        "outputId": "54b7a98e-de9b-49d7-c987-35980802ed9d"
      },
      "execution_count": null,
      "outputs": [
        {
          "output_type": "stream",
          "name": "stdout",
          "text": [
            "Model: \"sequential_4\"\n",
            "_________________________________________________________________\n",
            " Layer (type)                Output Shape              Param #   \n",
            "=================================================================\n",
            " flatten_3 (Flatten)         (None, 784)               0         \n",
            "                                                                 \n",
            " dense_8 (Dense)             (None, 100)               78500     \n",
            "                                                                 \n",
            " dense_9 (Dense)             (None, 10)                1010      \n",
            "                                                                 \n",
            "=================================================================\n",
            "Total params: 79,510\n",
            "Trainable params: 79,510\n",
            "Non-trainable params: 0\n",
            "_________________________________________________________________\n"
          ]
        }
      ]
    },
    {
      "cell_type": "code",
      "source": [
        "# 훈련\n",
        "model.compile(loss='sparse_categorical_crossentropy', metrics='accuracy')\n",
        "model.fit(train_scaled, train_target, epochs=5)"
      ],
      "metadata": {
        "id": "TJR3r81hzUBd"
      },
      "execution_count": null,
      "outputs": []
    },
    {
      "cell_type": "code",
      "source": [
        "# 분석을 위한 준비과정\n",
        "history = model.fit(train_scaled, train_target, epochs=5, verbose=0) # verbose=0 훈련과정을\n",
        "print(history.history.keys())                                        # 나타내지 않음"
      ],
      "metadata": {
        "colab": {
          "base_uri": "https://localhost:8080/"
        },
        "id": "QK3O6lED0tWu",
        "outputId": "1d27e142-fba0-4594-ab3b-ec095ba67b90"
      },
      "execution_count": null,
      "outputs": [
        {
          "output_type": "stream",
          "name": "stdout",
          "text": [
            "dict_keys(['loss', 'accuracy'])\n"
          ]
        }
      ]
    },
    {
      "cell_type": "code",
      "source": [
        "# epoch vs loss 그래프 그리기\n",
        "import matplotlib.pyplot as plt\n",
        "plt.plot(history.history['loss'])\n",
        "plt.xlabel('epoch')\n",
        "plt.ylabel('loss')\n",
        "plt.show()"
      ],
      "metadata": {
        "colab": {
          "base_uri": "https://localhost:8080/",
          "height": 279
        },
        "id": "8Wr1vsVY1c6J",
        "outputId": "397a910e-f050-43c9-d90b-732af26dce52"
      },
      "execution_count": null,
      "outputs": [
        {
          "output_type": "display_data",
          "data": {
            "text/plain": [
              "<Figure size 432x288 with 1 Axes>"
            ],
            "image/png": "[encoded data removed]"
          },
          "metadata": {
            "needs_background": "light"
          }
        }
      ]
    },
    {
      "cell_type": "code",
      "source": [
        "# accuracy 출력\n",
        "plt.plot(history.history['accuracy'])\n",
        "plt.xlabel('epoch')\n",
        "plt.ylabel('accuracy')\n",
        "plt.show()"
      ],
      "metadata": {
        "colab": {
          "base_uri": "https://localhost:8080/",
          "height": 279
        },
        "id": "sdtWSsgW2NTJ",
        "outputId": "bf965349-07d4-4842-cb38-fe12413611a6"
      },
      "execution_count": null,
      "outputs": [
        {
          "output_type": "display_data",
          "data": {
            "text/plain": [
              "<Figure size 432x288 with 1 Axes>"
            ],
            "image/png": "[encoded data removed]"
          },
          "metadata": {
            "needs_background": "light"
          }
        }
      ]
    }
  ]
}