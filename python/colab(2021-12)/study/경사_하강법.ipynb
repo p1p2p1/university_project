{
  "nbformat": 4,
  "nbformat_minor": 0,
  "metadata": {
    "colab": {
      "provenance": []
    },
    "kernelspec": {
      "name": "python3",
      "display_name": "Python 3"
    },
    "language_info": {
      "name": "python"
    }
  },
  "cells": [
    {
      "cell_type": "markdown",
      "source": [
        "경사 하강법\n",
        "\n",
        "-선형회귀에서 선형방정식의 weight(계수)를 찾는 방법.\n",
        "손실함수의 미분값이 감소하는 방향으로 반복적으로 weight값을 찾는다. 이론적으로 손실함수의 미분값이 0이 되는 지점에서 손실함수의 값이 최소가 되며 이 떄의 weight 값을 구한다."
      ],
      "metadata": {
        "id": "2K_Wp1uqh7Fh"
      }
    },
    {
      "cell_type": "code",
      "source": [
        "import numpy as np\n",
        "import matplotlib.pyplot as plt\n",
        "np.random.seed(0)\n",
        "x = 2 * np.random.rand(100,1)\n",
        "y = 6 + 4 * x + np.random.randn(100,1)\n",
        "plt.scatter(x,y)\n",
        "plt.show()"
      ],
      "metadata": {
        "colab": {
          "base_uri": "https://localhost:8080/",
          "height": 265
        },
        "id": "K6VMuV_JiIS4",
        "outputId": "5aa88ac2-6b9e-4554-c5fe-082b91534f1e"
      },
      "execution_count": null,
      "outputs": [
        {
          "output_type": "display_data",
          "data": {
            "text/plain": [
              "<Figure size 432x288 with 1 Axes>"
            ],
            "image/png": "[encoded data removed]"
          },
          "metadata": {
            "needs_background": "light"
          }
        }
      ]
    },
    {
      "cell_type": "code",
      "source": [
        "print(np.random.randn(10))"
      ],
      "metadata": {
        "colab": {
          "base_uri": "https://localhost:8080/"
        },
        "id": "huotLBL8ohuC",
        "outputId": "3badbbb6-517b-4861-a44a-aefc68f4b201"
      },
      "execution_count": null,
      "outputs": [
        {
          "output_type": "stream",
          "name": "stdout",
          "text": [
            "[-0.35399391 -1.37495129 -0.6436184  -2.22340315  0.62523145 -1.60205766\n",
            " -1.10438334  0.05216508 -0.739563    1.5430146 ]\n"
          ]
        }
      ]
    },
    {
      "cell_type": "code",
      "source": [
        "def get_weight_update(w1, w0, X, y, learning_rate = 0.01):\n",
        "  N = 1\n",
        "  w1_update = np.zeros_like(w1)\n",
        "  w0_update = np.zeros_like(w0)\n",
        "  y_pred = np.dot(X, w1.T) + w0\n",
        "  diff = y - y_pred\n",
        "  w0_factors = np.ones((N, 1))\n",
        "  w1_update = -(2/N) * learning_rate * (np.dot(X.t,diff))\n",
        "  w0_update = -(2/N) * learning_rate * (np.dot(w0_factors.T, diff))\n",
        "  return w1_update, w0_update"
      ],
      "metadata": {
        "id": "i1aOiLbXou9y"
      },
      "execution_count": null,
      "outputs": []
    },
    {
      "cell_type": "code",
      "source": [
        "def gradient_descent_steps(X, y, iters = 1000):\n",
        "  w0  = np.zeros((1,1))\n",
        "  w1 = np.zeros((1,1))\n",
        "  for _ in range(iters):\n",
        "    w1_update, w0_update = get_weight_update(w1, w0, X, y, learning_rate = 0.01)\n",
        "    w1 = w1 - w1_update\n",
        "    w0 = w0 - w0_update\n",
        "  return w1,w0"
      ],
      "metadata": {
        "id": "0D_2stb-qggE"
      },
      "execution_count": null,
      "outputs": []
    },
    {
      "cell_type": "code",
      "source": [
        "def get_cost(y, y_pred):\n",
        "  N = len(y)\n",
        "  cost = np.sum(np.square(y - y_pred)) / N\n",
        "  return cost\n",
        "\n",
        "w1, w0 = gradient_descent_steps(X, y,iters = 1000)\n",
        "print('w1 : {0:.3f} w0 : {1:.3f}'.format(w1[0.0],w0[0,0]))\n",
        "y_pred = w1[0,0] * X + w0\n",
        "print('Gradient Descent Total Cos : {0:.4f}'.format(get_cost(y,y_pred)))"
      ],
      "metadata": {
        "colab": {
          "base_uri": "https://localhost:8080/",
          "height": 248
        },
        "id": "wDGdR7NsrvPr",
        "outputId": "c8895e17-3574-4408-987f-20a32c968210"
      },
      "execution_count": null,
      "outputs": [
        {
          "output_type": "error",
          "ename": "NameError",
          "evalue": "ignored",
          "traceback": [
            "\u001b[0;31m---------------------------------------------------------------------------\u001b[0m",
            "\u001b[0;31mNameError\u001b[0m                                 Traceback (most recent call last)",
            "\u001b[0;32m<ipython-input-15-613ee9b9e89f>\u001b[0m in \u001b[0;36m<module>\u001b[0;34m()\u001b[0m\n\u001b[1;32m      4\u001b[0m   \u001b[0;32mreturn\u001b[0m \u001b[0mcost\u001b[0m\u001b[0;34m\u001b[0m\u001b[0;34m\u001b[0m\u001b[0m\n\u001b[1;32m      5\u001b[0m \u001b[0;34m\u001b[0m\u001b[0m\n\u001b[0;32m----> 6\u001b[0;31m \u001b[0mw1\u001b[0m\u001b[0;34m,\u001b[0m \u001b[0mw0\u001b[0m \u001b[0;34m=\u001b[0m \u001b[0mgradient_descent_steps\u001b[0m\u001b[0;34m(\u001b[0m\u001b[0mX\u001b[0m\u001b[0;34m,\u001b[0m \u001b[0my\u001b[0m\u001b[0;34m,\u001b[0m\u001b[0miters\u001b[0m \u001b[0;34m=\u001b[0m \u001b[0;36m1000\u001b[0m\u001b[0;34m)\u001b[0m\u001b[0;34m\u001b[0m\u001b[0;34m\u001b[0m\u001b[0m\n\u001b[0m\u001b[1;32m      7\u001b[0m \u001b[0mprint\u001b[0m\u001b[0;34m(\u001b[0m\u001b[0;34m'w1 : {0:.3f} w0 : {1:.3f}'\u001b[0m\u001b[0;34m.\u001b[0m\u001b[0mformat\u001b[0m\u001b[0;34m(\u001b[0m\u001b[0mw1\u001b[0m\u001b[0;34m[\u001b[0m\u001b[0;36m0.0\u001b[0m\u001b[0;34m]\u001b[0m\u001b[0;34m,\u001b[0m\u001b[0mw0\u001b[0m\u001b[0;34m[\u001b[0m\u001b[0;36m0\u001b[0m\u001b[0;34m,\u001b[0m\u001b[0;36m0\u001b[0m\u001b[0;34m]\u001b[0m\u001b[0;34m)\u001b[0m\u001b[0;34m)\u001b[0m\u001b[0;34m\u001b[0m\u001b[0;34m\u001b[0m\u001b[0m\n\u001b[1;32m      8\u001b[0m \u001b[0my_pred\u001b[0m \u001b[0;34m=\u001b[0m \u001b[0mw1\u001b[0m\u001b[0;34m[\u001b[0m\u001b[0;36m0\u001b[0m\u001b[0;34m,\u001b[0m\u001b[0;36m0\u001b[0m\u001b[0;34m]\u001b[0m \u001b[0;34m*\u001b[0m \u001b[0mX\u001b[0m \u001b[0;34m+\u001b[0m \u001b[0mw0\u001b[0m\u001b[0;34m\u001b[0m\u001b[0;34m\u001b[0m\u001b[0m\n",
            "\u001b[0;31mNameError\u001b[0m: name 'X' is not defined"
          ]
        }
      ]
    },
    {
      "cell_type": "code",
      "source": [],
      "metadata": {
        "id": "gYv2mnposwur"
      },
      "execution_count": null,
      "outputs": []
    }
  ]
}