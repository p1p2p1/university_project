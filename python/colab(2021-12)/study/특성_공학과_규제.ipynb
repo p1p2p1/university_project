{
  "nbformat": 4,
  "nbformat_minor": 0,
  "metadata": {
    "colab": {
      "provenance": []
    },
    "kernelspec": {
      "name": "python3",
      "display_name": "Python 3"
    },
    "language_info": {
      "name": "python"
    }
  },
  "cells": [
    {
      "cell_type": "code",
      "execution_count": null,
      "metadata": {
        "id": "fjFPbnG3mbxG"
      },
      "outputs": [],
      "source": [
        "import pandas as pd #판다스 : 데이터 처리 및 분석 패키지\n",
        "df = pd.read_csv('https://bit.ly/perch_csv_data')\n",
        "perch_full = df.to_numpy()"
      ]
    },
    {
      "cell_type": "code",
      "source": [
        "import numpy as np\n",
        "perch_weight = np.array(\n",
        "    [5.9, 32.0, 40.0, 51.5, 70.0, 100.0, 78.0, 80.0, 85.0, 85.0,\n",
        "     110.0, 115.0, 125.0, 130.0, 120.0, 120.0, 130.0, 135.0, 110.0,\n",
        "     130.0, 150.0, 145.0, 150.0, 170.0, 225.0, 145.0, 188.0, 180.0,\n",
        "     197.0, 218.0, 300.0, 260.0, 265.0, 250.0, 250.0, 300.0, 320.0,\n",
        "     514.0, 556.0, 840.0, 685.0, 700.0, 700.0, 690.0, 900.0, 650.0,\n",
        "     820.0, 850.0, 900.0, 1015.0, 820.0, 1100.0, 1000.0, 1100.0,\n",
        "     1000.0, 1000.0]\n",
        "     )"
      ],
      "metadata": {
        "id": "Prj5Kf5onKIy"
      },
      "execution_count": null,
      "outputs": []
    },
    {
      "cell_type": "code",
      "source": [
        "from sklearn.model_selection import train_test_split\n",
        "train_input, test_input, train_target, test_target = \\\n",
        "                                train_test_split(perch_full, perch_weight, random_state = 42)"
      ],
      "metadata": {
        "id": "X0foRtnGmqQa"
      },
      "execution_count": null,
      "outputs": []
    },
    {
      "cell_type": "code",
      "source": [
        "from sklearn.preprocessing import PolynomialFeatures #변환기 클래스 fit(), transform() 메서드 제공\n",
        "poly = PolynomialFeatures()\n",
        "poly.fit([[2,3]]) #특성이 2와 3인 경우\n",
        "print(poly.transform([[2,3]])) #특성변환 -> 새로운 특성을 만든다\n",
        "\n",
        "mpoly = PolynomialFeatures(include_bias = False)\n",
        "mpoly.fit([[2,3]])\n",
        "print(mpoly.transform([[2,3]]))"
      ],
      "metadata": {
        "colab": {
          "base_uri": "https://localhost:8080/"
        },
        "id": "-4rfgHdinPpq",
        "outputId": "3cb9fe1a-3705-47a4-9a4a-fa2666f4f91c"
      },
      "execution_count": null,
      "outputs": [
        {
          "output_type": "stream",
          "name": "stdout",
          "text": [
            "[[1. 2. 3. 4. 6. 9.]]\n",
            "[[2. 3. 4. 6. 9.]]\n"
          ]
        }
      ]
    },
    {
      "cell_type": "markdown",
      "source": [
        "PolynomialFeatures 클래스는 각 특성을 제곱한 항을 추가하고 특성끼리 서로 곱한 항을 추가한다.\n",
        "\n",
        "사실 선형 방정식의 절편을 항상 값이 1인 특성과 곱해지는 계수라고 볼 수 있다.\n",
        "\n",
        "1 = ?\n",
        "\n",
        "2 = 2\n",
        "\n",
        "3 = 3\n",
        "\n",
        "4 = 2*2\n",
        "\n",
        "6 = 2*3\n",
        "\n",
        "9 = 3*3"
      ],
      "metadata": {
        "id": "UidwkYNEjCx_"
      }
    },
    {
      "cell_type": "code",
      "source": [
        "poly = PolynomialFeatures(include_bias = False) #1제외\n",
        "poly.fit(train_input)\n",
        "train_poly = poly.transform(train_input)\n",
        "print(poly.transform(train_input))"
      ],
      "metadata": {
        "colab": {
          "base_uri": "https://localhost:8080/"
        },
        "id": "40VVCeSTnf_a",
        "outputId": "465eec81-d80a-4050-d5fb-9d2727d477b3"
      },
      "execution_count": null,
      "outputs": [
        {
          "output_type": "stream",
          "name": "stdout",
          "text": [
            "[[  19.6       5.14      3.04    384.16    100.744    59.584    26.4196\n",
            "    15.6256    9.2416]\n",
            " [  22.        5.88      3.52    484.      129.36     77.44     34.5744\n",
            "    20.6976   12.3904]\n",
            " [  18.7       5.2       3.12    349.69     97.24     58.344    27.04\n",
            "    16.224     9.7344]\n",
            " [  17.4       4.59      2.94    302.76     79.866    51.156    21.0681\n",
            "    13.4946    8.6436]\n",
            " [  36.       10.61      6.74   1296.      381.96    242.64    112.5721\n",
            "    71.5114   45.4276]\n",
            " [  25.        6.44      3.68    625.      161.       92.       41.4736\n",
            "    23.6992   13.5424]\n",
            " [  40.       11.93      7.11   1600.      477.2     284.4     142.3249\n",
            "    84.8223   50.5521]\n",
            " [  39.       12.43      7.35   1521.      484.77    286.65    154.5049\n",
            "    91.3605   54.0225]\n",
            " [  43.       11.93      7.28   1849.      512.99    313.04    142.3249\n",
            "    86.8504   52.9984]\n",
            " [  22.        5.64      3.52    484.      124.08     77.44     31.8096\n",
            "    19.8528   12.3904]\n",
            " [  20.        5.08      2.77    400.      101.6      55.4      25.8064\n",
            "    14.0716    7.6729]\n",
            " [  22.        6.11      3.52    484.      134.42     77.44     37.3321\n",
            "    21.5072   12.3904]\n",
            " [  24.        7.29      3.72    576.      174.96     89.28     53.1441\n",
            "    27.1188   13.8384]\n",
            " [  27.5       7.17      4.34    756.25    197.175   119.35     51.4089\n",
            "    31.1178   18.8356]\n",
            " [  43.       12.51      7.42   1849.      537.93    319.06    156.5001\n",
            "    92.8242   55.0564]\n",
            " [  40.       11.73      7.22   1600.      469.2     288.8     137.5929\n",
            "    84.6906   52.1284]\n",
            " [  24.        6.38      3.82    576.      153.12     91.68     40.7044\n",
            "    24.3716   14.5924]\n",
            " [  21.        5.92      3.31    441.      124.32     69.51     35.0464\n",
            "    19.5952   10.9561]\n",
            " [  27.5       7.05      4.34    756.25    193.875   119.35     49.7025\n",
            "    30.597    18.8356]\n",
            " [  40.       12.38      7.46   1600.      495.2     298.4     153.2644\n",
            "    92.3548   55.6516]\n",
            " [  32.8      10.03      6.02   1075.84    328.984   197.456   100.6009\n",
            "    60.3806   36.2404]\n",
            " [  26.5       7.17      4.14    702.25    190.005   109.71     51.4089\n",
            "    29.6838   17.1396]\n",
            " [  36.5      10.88      6.86   1332.25    397.12    250.39    118.3744\n",
            "    74.6368   47.0596]\n",
            " [  13.7       3.53      2.      187.69     48.361    27.4      12.4609\n",
            "     7.06      4.    ]\n",
            " [  22.7       5.95      3.63    515.29    135.065    82.401    35.4025\n",
            "    21.5985   13.1769]\n",
            " [  15.        3.82      2.43    225.       57.3      36.45     14.5924\n",
            "     9.2826    5.9049]\n",
            " [  37.       10.57      6.37   1369.      391.09    235.69    111.7249\n",
            "    67.3309   40.5769]\n",
            " [  35.       11.49      7.8    1225.      402.15    273.      132.0201\n",
            "    89.622    60.84  ]\n",
            " [  28.7       7.59      4.64    823.69    217.833   133.168    57.6081\n",
            "    35.2176   21.5296]\n",
            " [  23.5       6.28      3.72    552.25    147.58     87.42     39.4384\n",
            "    23.3616   13.8384]\n",
            " [  39.       11.14      6.     1521.      434.46    234.      124.0996\n",
            "    66.84     36.    ]\n",
            " [  21.        5.69      3.56    441.      119.49     74.76     32.3761\n",
            "    20.2564   12.6736]\n",
            " [  23.        5.22      3.63    529.      120.06     83.49     27.2484\n",
            "    18.9486   13.1769]\n",
            " [  22.        5.52      4.      484.      121.44     88.       30.4704\n",
            "    22.08     16.    ]\n",
            " [  44.       12.49      7.6    1936.      549.56    334.4     156.0001\n",
            "    94.924    57.76  ]\n",
            " [  22.5       6.79      3.62    506.25    152.775    81.45     46.1041\n",
            "    24.5798   13.1044]\n",
            " [  19.        5.64      3.05    361.      107.16     57.95     31.8096\n",
            "    17.202     9.3025]\n",
            " [  37.       10.84      6.26   1369.      401.08    231.62    117.5056\n",
            "    67.8584   39.1876]\n",
            " [  22.        6.11      3.41    484.      134.42     75.02     37.3321\n",
            "    20.8351   11.6281]\n",
            " [  25.6       6.56      4.24    655.36    167.936   108.544    43.0336\n",
            "    27.8144   17.9776]\n",
            " [  42.       12.8       6.87   1764.      537.6     288.54    163.84\n",
            "    87.936    47.1969]\n",
            " [  34.5      10.26      6.39   1190.25    353.97    220.455   105.2676\n",
            "    65.5614   40.8321]]\n"
          ]
        }
      ]
    },
    {
      "cell_type": "code",
      "source": [
        "print(train_poly.shape)"
      ],
      "metadata": {
        "colab": {
          "base_uri": "https://localhost:8080/"
        },
        "id": "KyJy9aGxlgnG",
        "outputId": "38b11826-8843-4fec-b759-347cd8247b2a"
      },
      "execution_count": null,
      "outputs": [
        {
          "output_type": "stream",
          "name": "stdout",
          "text": [
            "(42, 9)\n"
          ]
        }
      ]
    },
    {
      "cell_type": "code",
      "source": [
        "poly.get_feature_names()"
      ],
      "metadata": {
        "id": "DXbtZJKRn59D",
        "colab": {
          "base_uri": "https://localhost:8080/"
        },
        "outputId": "b701266d-5e64-4b88-bd9d-cdc63c5ffe8a"
      },
      "execution_count": null,
      "outputs": [
        {
          "output_type": "stream",
          "name": "stderr",
          "text": [
            "/usr/local/lib/python3.7/dist-packages/sklearn/utils/deprecation.py:87: FutureWarning: Function get_feature_names is deprecated; get_feature_names is deprecated in 1.0 and will be removed in 1.2. Please use get_feature_names_out instead.\n",
            "  warnings.warn(msg, category=FutureWarning)\n"
          ]
        },
        {
          "output_type": "execute_result",
          "data": {
            "text/plain": [
              "['x0', 'x1', 'x2', 'x0^2', 'x0 x1', 'x0 x2', 'x1^2', 'x1 x2', 'x2^2']"
            ]
          },
          "metadata": {},
          "execution_count": 29
        }
      ]
    },
    {
      "cell_type": "code",
      "source": [
        "test_poly = poly.transform(test_input)\n",
        "print(test_poly)"
      ],
      "metadata": {
        "id": "-GNCwAVsfEwh",
        "colab": {
          "base_uri": "https://localhost:8080/"
        },
        "outputId": "215a7278-7c8b-43ab-918c-a025f6a8e26e"
      },
      "execution_count": null,
      "outputs": [
        {
          "output_type": "stream",
          "name": "stdout",
          "text": [
            "[[8.400000e+00 2.110000e+00 1.410000e+00 7.056000e+01 1.772400e+01\n",
            "  1.184400e+01 4.452100e+00 2.975100e+00 1.988100e+00]\n",
            " [1.800000e+01 5.220000e+00 3.320000e+00 3.240000e+02 9.396000e+01\n",
            "  5.976000e+01 2.724840e+01 1.733040e+01 1.102240e+01]\n",
            " [2.750000e+01 7.280000e+00 4.570000e+00 7.562500e+02 2.002000e+02\n",
            "  1.256750e+02 5.299840e+01 3.326960e+01 2.088490e+01]\n",
            " [2.130000e+01 6.380000e+00 3.530000e+00 4.536900e+02 1.358940e+02\n",
            "  7.518900e+01 4.070440e+01 2.252140e+01 1.246090e+01]\n",
            " [2.250000e+01 5.860000e+00 3.620000e+00 5.062500e+02 1.318500e+02\n",
            "  8.145000e+01 3.433960e+01 2.121320e+01 1.310440e+01]\n",
            " [4.000000e+01 1.114000e+01 6.630000e+00 1.600000e+03 4.456000e+02\n",
            "  2.652000e+02 1.240996e+02 7.385820e+01 4.395690e+01]\n",
            " [3.000000e+01 7.620000e+00 4.770000e+00 9.000000e+02 2.286000e+02\n",
            "  1.431000e+02 5.806440e+01 3.634740e+01 2.275290e+01]\n",
            " [2.460000e+01 6.730000e+00 4.170000e+00 6.051600e+02 1.655580e+02\n",
            "  1.025820e+02 4.529290e+01 2.806410e+01 1.738890e+01]\n",
            " [3.900000e+01 1.114000e+01 7.490000e+00 1.521000e+03 4.344600e+02\n",
            "  2.921100e+02 1.240996e+02 8.343860e+01 5.610010e+01]\n",
            " [2.100000e+01 5.690000e+00 3.670000e+00 4.410000e+02 1.194900e+02\n",
            "  7.707000e+01 3.237610e+01 2.088230e+01 1.346890e+01]\n",
            " [4.350000e+01 1.260000e+01 8.140000e+00 1.892250e+03 5.481000e+02\n",
            "  3.540900e+02 1.587600e+02 1.025640e+02 6.625960e+01]\n",
            " [1.620000e+01 4.590000e+00 2.630000e+00 2.624400e+02 7.435800e+01\n",
            "  4.260600e+01 2.106810e+01 1.207170e+01 6.916900e+00]\n",
            " [2.800000e+01 7.820000e+00 4.200000e+00 7.840000e+02 2.189600e+02\n",
            "  1.176000e+02 6.115240e+01 3.284400e+01 1.764000e+01]\n",
            " [2.730000e+01 8.320000e+00 5.140000e+00 7.452900e+02 2.271360e+02\n",
            "  1.403220e+02 6.922240e+01 4.276480e+01 2.641960e+01]]\n"
          ]
        }
      ]
    },
    {
      "cell_type": "code",
      "source": [
        "from sklearn.linear_model import LinearRegression\n",
        "lr = LinearRegression()\n",
        "lr.fit(train_poly, train_target)\n",
        "print(lr.score(train_poly, train_target))\n",
        "print(lr.score(test_poly, test_target))"
      ],
      "metadata": {
        "colab": {
          "base_uri": "https://localhost:8080/"
        },
        "id": "k3UxSQ8neupi",
        "outputId": "2b3b3a26-6fb7-47ee-bdcf-51985787c3fe"
      },
      "execution_count": null,
      "outputs": [
        {
          "output_type": "stream",
          "name": "stdout",
          "text": [
            "0.9903183436982124\n",
            "0.9714559911594134\n"
          ]
        }
      ]
    },
    {
      "cell_type": "code",
      "source": [
        "poly = PolynomialFeatures(degree = 5 , include_bias = False) #degree 매개변수 : 고차항의 최대차수\n",
        "poly.fit(train_input)\n",
        "train_poly = poly.transform(train_input)\n",
        "test_poly = poly.transform(test_input)\n",
        "print(train_poly.shape)"
      ],
      "metadata": {
        "colab": {
          "base_uri": "https://localhost:8080/"
        },
        "id": "qSxj-uoge7qq",
        "outputId": "b7620234-44b6-401d-f541-512b099b3c89"
      },
      "execution_count": null,
      "outputs": [
        {
          "output_type": "stream",
          "name": "stdout",
          "text": [
            "(42, 55)\n"
          ]
        }
      ]
    },
    {
      "cell_type": "code",
      "source": [
        "from sklearn.linear_model import LinearRegression\n",
        "lr = LinearRegression()\n",
        "lr.fit(train_poly, train_target)\n",
        "print(lr.score(train_poly, train_target))\n",
        "print(lr.score(test_poly, test_target))"
      ],
      "metadata": {
        "colab": {
          "base_uri": "https://localhost:8080/"
        },
        "id": "8jAO4SRPfaZj",
        "outputId": "a7a52a33-7f5e-42aa-d0b6-603d3d4f238c"
      },
      "execution_count": null,
      "outputs": [
        {
          "output_type": "stream",
          "name": "stdout",
          "text": [
            "0.9999999999991097\n",
            "-144.40579242684848\n"
          ]
        }
      ]
    },
    {
      "cell_type": "markdown",
      "source": [
        "테스트 세트 점수가 큰 음수가 나왔다. 특성의 개수를 늘리면 선형 모델은 강력해지고 훈련 세트에 대해 거의 완벽하게 학습할 수 있다. 하지만 이런 모델은 훈련 세트에 과대적합되므로 테스트 점수가 이상하게 나왔다.\n",
        "\n",
        "이 현상을 해결하기 위해서는 다시 특성을 줄여야 한다."
      ],
      "metadata": {
        "id": "py9Xve8Fq9bC"
      }
    },
    {
      "cell_type": "code",
      "source": [
        "from sklearn.preprocessing import StandardScaler\n",
        "ss = StandardScaler()\n",
        "ss.fit(train_poly)\n",
        "train_scaled = ss.transform(train_poly)\n",
        "test_scaled = ss.transform(test_poly)"
      ],
      "metadata": {
        "id": "a1IuujBnfg65"
      },
      "execution_count": null,
      "outputs": []
    },
    {
      "cell_type": "markdown",
      "source": [
        "규제\n",
        "\n",
        "-규제는 머신러닝 모델이 훈련 세트를 너무 과도하게 학습하지 못하도록 훼방하는 것을 말한다. 즉, 모델이 훈련 세트에 과대적합되지 않도록 만드는 것\n",
        "\n",
        "-선형 회귀 모델의 경우 특성에 곱해지는 계수의 크기를 작게 만드는 일이다.\n",
        "\n",
        "-스케일이 정규화되지 않으면 여기에 곱해지는 계수값도 차이 나게 된다."
      ],
      "metadata": {
        "id": "sx-_aY-2rQ4Z"
      }
    },
    {
      "cell_type": "markdown",
      "source": [
        "규제를 가하는 방법에 따라 릿지와 라쏘로 나눈다.\n",
        "\n",
        "-릿지는 계수를 제곱한 값을 기준으로 규제를 적용하고,\n",
        "\n",
        "-라쏘는 계수의 절댓값을 기준으로 규제를 적용한다.\n",
        "\n",
        "일반적으로 릿지를 더 선호한다. 두 알고리즘 모두 계수의 크기를 줄이지만 라쏘는 아예 0으로 만들 수 있다."
      ],
      "metadata": {
        "id": "XAp6L9JusadQ"
      }
    },
    {
      "cell_type": "code",
      "source": [
        "from sklearn.linear_model import Ridge\n",
        "ridge = Ridge()\n",
        "ridge.fit(train_scaled, train_target)\n",
        "print(ridge.score(train_scaled, train_target))\n",
        "print(ridge.score(test_scaled, test_target))"
      ],
      "metadata": {
        "colab": {
          "base_uri": "https://localhost:8080/"
        },
        "id": "an-H-dbBf1dY",
        "outputId": "b57df8e0-57cb-4327-ccd9-914c7bee4322"
      },
      "execution_count": null,
      "outputs": [
        {
          "output_type": "stream",
          "name": "stdout",
          "text": [
            "0.9896101671037343\n",
            "0.9790693977615397\n"
          ]
        }
      ]
    },
    {
      "cell_type": "markdown",
      "source": [
        "테스트 세트의 점수가 돌아왔다. 많은 특성을 사용했음에도 훈련 세트에 너무 과대적합되지 않아 테스트 세트에서도 좋은 성능을 나타내고 있다."
      ],
      "metadata": {
        "id": "Z6rpCwE_s6nX"
      }
    },
    {
      "cell_type": "code",
      "source": [
        "import matplotlib.pyplot as plt\n",
        "train_score = []\n",
        "test_score = []\n",
        "alpha_list = [0.001, 0.01, 0.1, 1, 10, 100]\n",
        "for x in alpha_list:\n",
        "  ridge = Ridge(alpha = x) #alpha값에 다양한 수를 넣어보고 규제 강도를 조절한다.\n",
        "  ridge.fit(train_scaled, train_target)\n",
        "  train_score.append(ridge.score(train_scaled, train_target))\n",
        "  test_score.append(ridge.score(test_scaled, test_target))\n",
        "  print(ridge.score(train_scaled, train_target))\n",
        "  print(ridge.score(test_scaled, test_target))"
      ],
      "metadata": {
        "id": "rHq5SeaqgTwZ",
        "colab": {
          "base_uri": "https://localhost:8080/"
        },
        "outputId": "334c140c-87a1-4363-9dea-ef4d7df51504"
      },
      "execution_count": null,
      "outputs": [
        {
          "output_type": "stream",
          "name": "stdout",
          "text": [
            "0.9930455252088191\n",
            "0.9569388961556926\n",
            "0.9917809981250538\n",
            "0.9800187936873143\n",
            "0.9903815817570366\n",
            "0.9827976465386926\n",
            "0.9896101671037343\n",
            "0.9790693977615397\n",
            "0.988728468997471\n",
            "0.9725329582461569\n",
            "0.9841843235774494\n",
            "0.9627042641050291\n"
          ]
        }
      ]
    },
    {
      "cell_type": "markdown",
      "source": [
        "alpha 값이 크면 규제 강도가 세지므로 계수 값을 더 줄이고 조금 더 과소적합되도록 유도한다."
      ],
      "metadata": {
        "id": "LEMyddnPuPOp"
      }
    },
    {
      "cell_type": "code",
      "source": [
        "plt.plot(alpha_list,train_score)\n",
        "plt.plot(alpha_list,test_score)\n",
        "plt.xlabel('alpha')\n",
        "plt.ylabel('R^2')\n",
        "plt.show()\n",
        "#이런식으로 나온다.\n",
        "#0.001, 0.01, 0.1, 1, 10, 100이니까 어떻게 보면 당연하다."
      ],
      "metadata": {
        "colab": {
          "base_uri": "https://localhost:8080/",
          "height": 279
        },
        "id": "tRd9APMuu_72",
        "outputId": "8e07570c-6da5-4036-d5c0-f49ea47b5a29"
      },
      "execution_count": null,
      "outputs": [
        {
          "output_type": "display_data",
          "data": {
            "text/plain": [
              "<Figure size 432x288 with 1 Axes>"
            ],
            "image/png": "[encoded data removed]"
          },
          "metadata": {
            "needs_background": "light"
          }
        }
      ]
    },
    {
      "cell_type": "markdown",
      "source": [
        "위 그래프를 보면 alpha값이 0.001부터 10배씩 늘렸기 때문에 왼쪽이 저런식으로 나온다. 여기서는 로그함수를 통해 지수를 표현해주자."
      ],
      "metadata": {
        "id": "3mRVERo1vSzm"
      }
    },
    {
      "cell_type": "code",
      "source": [
        "plt.plot(np.log10(alpha_list),train_score)\n",
        "plt.plot(np.log10(alpha_list),test_score)\n",
        "plt.xlabel('alpha')\n",
        "plt.ylabel('R^2')\n",
        "plt.legend(['train_score','test_score'])\n",
        "plt.show()"
      ],
      "metadata": {
        "colab": {
          "base_uri": "https://localhost:8080/",
          "height": 279
        },
        "id": "3ToGRtROvPYG",
        "outputId": "efd4e981-50b5-4f58-9fdd-fc39d9393221"
      },
      "execution_count": null,
      "outputs": [
        {
          "output_type": "display_data",
          "data": {
            "text/plain": [
              "<Figure size 432x288 with 1 Axes>"
            ],
            "image/png": "[encoded data removed]"
          },
          "metadata": {
            "needs_background": "light"
          }
        }
      ]
    },
    {
      "cell_type": "markdown",
      "source": [
        "위 그래프를 보면 alpha값이 -1일 때 가장 적절하다.\n",
        "\n",
        "log10(x) = -1\n",
        "\n",
        "x = 0.1이다. 즉, alpha값은 0.1"
      ],
      "metadata": {
        "id": "c24cRfCvvugB"
      }
    },
    {
      "cell_type": "code",
      "source": [
        "ridge = Ridge(alpha = 0.1)\n",
        "ridge.fit(train_scaled, train_target)\n",
        "print(ridge.score(train_scaled, train_target))\n",
        "print(ridge.score(test_scaled, test_target))"
      ],
      "metadata": {
        "colab": {
          "base_uri": "https://localhost:8080/"
        },
        "id": "M6y9XNBGg6KY",
        "outputId": "a418ddc4-c4fb-43ce-e32e-b60a3b1657ec"
      },
      "execution_count": null,
      "outputs": [
        {
          "output_type": "stream",
          "name": "stdout",
          "text": [
            "0.9903815817570366\n",
            "0.9827976465386926\n"
          ]
        }
      ]
    },
    {
      "cell_type": "markdown",
      "source": [
        "릿지 회귀를 사용하여 훈련 세트와 테스트 세트의 점수가 비슷하게 모두 높고 과대적합과 과소적합 사이에서 균형을 맞추고 있다."
      ],
      "metadata": {
        "id": "jKFY8E57v-tF"
      }
    },
    {
      "cell_type": "code",
      "source": [
        "from sklearn.linear_model import Lasso\n",
        "\n",
        "lasso = Lasso()\n",
        "lasso.fit(train_scaled, train_target)\n",
        "print(lasso.score(train_scaled, train_target))\n",
        "print(lasso.score(test_scaled, test_target))"
      ],
      "metadata": {
        "colab": {
          "base_uri": "https://localhost:8080/"
        },
        "id": "KO9rqGPYwIpN",
        "outputId": "5d9ee6c8-acfb-494d-f38c-569aa8b300b3"
      },
      "execution_count": null,
      "outputs": [
        {
          "output_type": "stream",
          "name": "stdout",
          "text": [
            "0.989789897208096\n",
            "0.9800593698421883\n"
          ]
        }
      ]
    },
    {
      "cell_type": "code",
      "source": [
        "train_score = []\n",
        "test_score = []\n",
        "alpha_list = [0.001, 0.01, 0.1, 1, 10, 100]\n",
        "for alpha in alpha_list:\n",
        "  lasso = Lasso(alpha=alpha, max_iter = 10000)\n",
        "  lasso.fit(train_scaled,train_target)\n",
        "  train_score.append(lasso.score(train_scaled, train_target))\n",
        "  test_score.append(lasso.score(test_scaled, test_target))\n",
        "  print(train_score)\n",
        "  print(test_score)"
      ],
      "metadata": {
        "colab": {
          "base_uri": "https://localhost:8080/"
        },
        "id": "y9TvmUEHwQkb",
        "outputId": "0448ba06-e231-4aba-a648-360a142dcbf7"
      },
      "execution_count": null,
      "outputs": [
        {
          "output_type": "stream",
          "name": "stdout",
          "text": [
            "[0.9924957354689654]\n",
            "[0.9731817502723494]\n",
            "[0.9924957354689654, 0.9922988130765112]\n",
            "[0.9731817502723494, 0.9761545611184548]\n",
            "[0.9924957354689654, 0.9922988130765112, 0.9902080238600284]\n",
            "[0.9731817502723494, 0.9761545611184548, 0.9824382983968606]\n",
            "[0.9924957354689654, 0.9922988130765112, 0.9902080238600284, 0.9898116789062786]\n",
            "[0.9731817502723494, 0.9761545611184548, 0.9824382983968606, 0.9801844137326112]\n",
            "[0.9924957354689654, 0.9922988130765112, 0.9902080238600284, 0.9898116789062786, 0.9887624603020236]\n",
            "[0.9731817502723494, 0.9761545611184548, 0.9824382983968606, 0.9801844137326112, 0.9830309645308443]\n",
            "[0.9924957354689654, 0.9922988130765112, 0.9902080238600284, 0.9898116789062786, 0.9887624603020236, 0.9078618674946646]\n",
            "[0.9731817502723494, 0.9761545611184548, 0.9824382983968606, 0.9801844137326112, 0.9830309645308443, 0.9090772073024512]\n"
          ]
        },
        {
          "output_type": "stream",
          "name": "stderr",
          "text": [
            "/usr/local/lib/python3.7/dist-packages/sklearn/linear_model/_coordinate_descent.py:648: ConvergenceWarning: Objective did not converge. You might want to increase the number of iterations, check the scale of the features or consider increasing regularisation. Duality gap: 1.878e+04, tolerance: 5.183e+02\n",
            "  coef_, l1_reg, l2_reg, X, y, max_iter, tol, rng, random, positive\n",
            "/usr/local/lib/python3.7/dist-packages/sklearn/linear_model/_coordinate_descent.py:648: ConvergenceWarning: Objective did not converge. You might want to increase the number of iterations, check the scale of the features or consider increasing regularisation. Duality gap: 1.297e+04, tolerance: 5.183e+02\n",
            "  coef_, l1_reg, l2_reg, X, y, max_iter, tol, rng, random, positive\n"
          ]
        }
      ]
    },
    {
      "cell_type": "code",
      "source": [
        "plt.plot(np.log10(alpha_list),train_score)\n",
        "plt.plot(np.log10(alpha_list),test_score)\n",
        "plt.xlabel('alpha')\n",
        "plt.ylabel('R^2')\n",
        "plt.legend(['train_score','test_score'])\n",
        "plt.show()"
      ],
      "metadata": {
        "colab": {
          "base_uri": "https://localhost:8080/",
          "height": 279
        },
        "id": "SZlT1UMDwz8-",
        "outputId": "5090e9c8-46f7-43e7-e99a-d7d68d815f44"
      },
      "execution_count": null,
      "outputs": [
        {
          "output_type": "display_data",
          "data": {
            "text/plain": [
              "<Figure size 432x288 with 1 Axes>"
            ],
            "image/png": "[encoded data removed]"
          },
          "metadata": {
            "needs_background": "light"
          }
        }
      ]
    },
    {
      "cell_type": "markdown",
      "source": [
        "릿지 모델과 그래프가 다르게 나왔다.\n",
        "\n",
        "하지만 훈련 세트와 테스트 세트의 점수가 가장 좁혀지는 값의 x값은 -1 즉, alpha값은 10이 된다."
      ],
      "metadata": {
        "id": "wihGt6aoxRqd"
      }
    },
    {
      "cell_type": "code",
      "source": [
        "lasso = Lasso(alpha = 10)\n",
        "lasso.fit(train_scaled, train_target)\n",
        "print(lasso.score(train_scaled, train_target))\n",
        "print(lasso.score(test_scaled, test_target))"
      ],
      "metadata": {
        "colab": {
          "base_uri": "https://localhost:8080/"
        },
        "id": "g-yyggkjxPGX",
        "outputId": "357fb05c-afb6-4953-8ac6-60ea954e080a"
      },
      "execution_count": null,
      "outputs": [
        {
          "output_type": "stream",
          "name": "stdout",
          "text": [
            "0.9888067471131867\n",
            "0.9824470598706695\n"
          ]
        }
      ]
    },
    {
      "cell_type": "code",
      "source": [
        "print(np.sum(lasso.coef_ == 0))"
      ],
      "metadata": {
        "colab": {
          "base_uri": "https://localhost:8080/"
        },
        "id": "V-w2f47axzwc",
        "outputId": "853b6fc9-eddf-4bcf-eaae-8ebc3d7b2295"
      },
      "execution_count": null,
      "outputs": [
        {
          "output_type": "stream",
          "name": "stdout",
          "text": [
            "40\n"
          ]
        }
      ]
    }
  ]
}